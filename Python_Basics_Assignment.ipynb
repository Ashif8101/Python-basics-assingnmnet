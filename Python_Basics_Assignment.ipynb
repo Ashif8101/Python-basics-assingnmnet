{
  "nbformat": 4,
  "nbformat_minor": 0,
  "metadata": {
    "colab": {
      "provenance": []
    },
    "kernelspec": {
      "name": "python3",
      "display_name": "Python 3"
    },
    "language_info": {
      "name": "python"
    }
  },
  "cells": [
    {
      "cell_type": "markdown",
      "source": [
        "1. What is Python, and why is it popular?\n",
        "- Python is a porgramming language which is highly interpreted, interactive and object oriented sripting language.\n",
        "Python is desingned to be highly readable. It frequently uses simple English keywords where as other language use punctuations, and it requires fewer syntatical constructions in comparison to other languages."
      ],
      "metadata": {
        "id": "Qs15YEV7kkO4"
      }
    },
    {
      "cell_type": "markdown",
      "source": [
        "2. What is an interpreter in Python?\n",
        "- An interpreter in Python is a program that executes Python code line by line, translating it into machine code that the computer can understand. Python's interpreter runs the code directly, which makes it easier to test and debug."
      ],
      "metadata": {
        "id": "frfGsi9xmsGu"
      }
    },
    {
      "cell_type": "markdown",
      "source": [
        "3. What are pre-defined keywords in Python?\n",
        "- In Python, keywords are reserved words that have predefined meanings and purposes within the language's syntax. These keywords are integral to Python's structure and cannot be used as identifiers for variables, functions, classes, or other user-defined elements.\n",
        " As of Python 3.11, there are 35 keywords:\n",
        "\n",
        "  False, await, else, import, pass\n",
        "\n",
        "  None, break, except, in, raise\n",
        "\n",
        "  True, class, finally, is, return\n",
        "\n",
        "  and, continue, for, lambda, try\n",
        "\n",
        "  as, def, from, nonlocal, while\n",
        "\n",
        "  assert, del, global, not, with\n",
        "\n",
        "  async, elif, if, or, yield.\n"
      ],
      "metadata": {
        "id": "U-dVY26Cnhhf"
      }
    },
    {
      "cell_type": "markdown",
      "source": [
        "4. Can keywords be used as variable names?\n",
        "- No, Python keywords cannot be used as variable names.\n",
        "In Python, keywords are reserved words that have special meanings and purposes within the language's syntax. These keywords define the language's structure and cannot be used as identifiers for variables, functions, classes, or any other user-defined elements.\n"
      ],
      "metadata": {
        "id": "pXIY1vrBpB_Y"
      }
    },
    {
      "cell_type": "markdown",
      "source": [
        "5. What is mutability in Python?\n",
        "- Mutability refers to the ability of an object to be changed after it has been created Objects that can be changed are termed mutable, while those that cannot be altered once created are called immutable.\n"
      ],
      "metadata": {
        "id": "nK2hgTtXpWKp"
      }
    },
    {
      "cell_type": "markdown",
      "source": [
        "6.  Why are lists mutable, but tuples are immutable?\n",
        "- In Python, lists are mutable, allowing modifications after creation, while tuples are immutable, meaning their content cannot change once defined. This distinction stems from their intended use cases and design considerations\n"
      ],
      "metadata": {
        "id": "1DqpMO3ip-Vy"
      }
    },
    {
      "cell_type": "markdown",
      "source": [
        "7.  What is the difference between “==” and “is” operators in Python?\n",
        "- In Python, the == and is operators are used for comparisons, but they serve different purposes:\n",
        "\n",
        "  == Operator (Equality): Checks if the values of two objects are equal.\n",
        "\n",
        "  is Operator (Identity): Checks if two variables point to the same object in memory.\n"
      ],
      "metadata": {
        "id": "-g_XZJ1HqjQ2"
      }
    },
    {
      "cell_type": "markdown",
      "source": [
        "8. What are logical operators in Python?\n",
        "- In Python, logical operators are used to combine conditional statements, allowing for more complex decision-making in code.\n",
        "There are 3 logical operators (and, or , not)\n"
      ],
      "metadata": {
        "id": "xuiZaSRKq5c-"
      }
    },
    {
      "cell_type": "markdown",
      "source": [
        "9. What is type casting in Python?\n",
        "- The process of changing data type of a value/object is known as type casting.\n",
        "It is necessary because while executing/computation using operators, there can be mismatch between the data types."
      ],
      "metadata": {
        "id": "aAR_2KzDrocQ"
      }
    },
    {
      "cell_type": "markdown",
      "source": [
        "10. What is the difference between implicit and explicit type casting?\n",
        "- The difference between the implicit and explicit type casting:\n",
        "  Implicit Type Casting\n",
        "\n",
        "  This occurs automatically when Python converts one data type to another without explicit instruction from the programmer. It's typically done to prevent data loss during operations involving mixed data types.\n",
        "\n",
        "Example:\n",
        "\n"
      ],
      "metadata": {
        "id": "YHDPZKursi5g"
      }
    },
    {
      "cell_type": "code",
      "source": [
        "num_int = 6\n",
        "num_float = 1.2\n",
        "result = num_int + num_float\n",
        "print(result)  # Output: 7.2\n",
        "print(type(result))  # Output: <class 'float'>"
      ],
      "metadata": {
        "colab": {
          "base_uri": "https://localhost:8080/"
        },
        "id": "aBzzEm-jta8f",
        "outputId": "092e299a-42e3-4fa3-8b1e-07e0a8a9dfa9"
      },
      "execution_count": null,
      "outputs": [
        {
          "output_type": "stream",
          "name": "stdout",
          "text": [
            "7.2\n",
            "<class 'float'>\n"
          ]
        }
      ]
    },
    {
      "cell_type": "markdown",
      "source": [
        "Explicit Type Casting:\n",
        "\n",
        "This involves manually converting a variable from one data type to another using predefined functions like int(), float(), or str(). It's used when specific data type conversions are necessary, and the programmer takes control over the conversion process.\n",
        "\n",
        "Example:\n",
        "\n",
        "\n"
      ],
      "metadata": {
        "id": "PmeQ5uH0uNt-"
      }
    },
    {
      "cell_type": "code",
      "source": [
        "num_string = '12'\n",
        "num_integer = 23\n",
        "\n",
        "print(\"Data type of num_string before Type Casting:\", type(num_string))\n",
        "\n",
        "# explicit type conversion\n",
        "num_string = int(num_string)\n",
        "\n",
        "print(\"Data type of num_string after Type Casting:\", type(num_string))\n",
        "\n",
        "num_sum = num_integer + num_string\n",
        "\n",
        "print(\"Sum:\", num_sum)  # Output: 35\n",
        "print(\"Data type of num_sum:\", type(num_sum))  # Output: <class 'int'>"
      ],
      "metadata": {
        "colab": {
          "base_uri": "https://localhost:8080/"
        },
        "id": "Q_uRE0E8uV4K",
        "outputId": "2a0b6c2d-2f40-430d-b8c8-526edc19f343"
      },
      "execution_count": null,
      "outputs": [
        {
          "output_type": "stream",
          "name": "stdout",
          "text": [
            "Data type of num_string before Type Casting: <class 'str'>\n",
            "Data type of num_string after Type Casting: <class 'int'>\n",
            "Sum: 35\n",
            "Data type of num_sum: <class 'int'>\n"
          ]
        }
      ]
    },
    {
      "cell_type": "markdown",
      "source": [
        "11.  What is the purpose of conditional statements in Python?\n",
        "- Because it helps you to code decisions based on some pre-conditions.\n",
        "It enable programs to execute specific blocks of code based on whether certain conditions are met. This allows for decision-making within the code, making it possible to perform different actions depending on varying inputs or situations."
      ],
      "metadata": {
        "id": "3gaZKmazuH23"
      }
    },
    {
      "cell_type": "markdown",
      "source": [
        "12.  How does the elif statement work?\n",
        "- In Python, the elif statement, short for \"else if,\" allows you to check multiple conditions in sequence after an initial if statement. It's used when the first condition isn't true, and you want to check additional conditions before deciding on an action."
      ],
      "metadata": {
        "id": "o7CLyaTFvE54"
      }
    },
    {
      "cell_type": "markdown",
      "source": [
        "13.  What is the difference between for and while loops?\n",
        "- In Python, both for and while loops facilitate repeated execution of code blocks, but they differ in structure and typical use cases.\n",
        "\n",
        "for Loop:\n",
        "\n",
        "Purpose: Iterates over a sequence (e.g., list, tuple, string) or other iterable objects, executing the code block once for each item.\n",
        "\n",
        "When to Use: Ideal when the number of iterations is predetermined or when traversing elements in a collection.\n",
        "\n",
        "while Loop:\n",
        "\n",
        "Purpose: Continues executing the code block as long as a specified condition remains True.\n",
        "\n",
        "When to Use: Suitable when the number of iterations isn't known in advance and depends on dynamic conditions during runtime.\n"
      ],
      "metadata": {
        "id": "UBeHAphYvk7t"
      }
    },
    {
      "cell_type": "markdown",
      "source": [
        "14. Describe a scenario where a while loop is more suitable than a for loop?\n",
        "- A while loop is particularly suitable when the number of iterations isn't predetermined and depends on dynamic conditions during runtime. This loop continues executing as long as a specified condition remains True.\n",
        "\n",
        "Scenario Example: User Authentication Attempts\n",
        "\n",
        "Consider a user authentication system that allows a user to attempt logging in until they either succeed or exhaust a maximum number of allowed attempts. In this case, the exact number of iterations isn't known beforehand, making a while loop appropriate.\n",
        "\n",
        "Implementation:\n"
      ],
      "metadata": {
        "id": "egtyvnZ6wDb8"
      }
    },
    {
      "cell_type": "code",
      "source": [
        "max_attempts = 3\n",
        "attempts = 0\n",
        "authenticated = False\n",
        "\n",
        "while attempts < max_attempts and not authenticated:\n",
        "    username = input(\"Enter username: \")\n",
        "    password = input(\"Enter password: \")\n",
        "    if authenticate(username, password):\n",
        "        print(\"Login successful!\")\n",
        "        authenticated = True\n",
        "    else:\n",
        "        attempts += 1\n",
        "        print(f\"Login failed. Attempts remaining: {max_attempts - attempts}\")\n",
        "\n",
        "if not authenticated:\n",
        "    print(\"Account locked due to too many failed attempts.\")"
      ],
      "metadata": {
        "id": "8dXG59-lwVo_"
      },
      "execution_count": null,
      "outputs": []
    },
    {
      "cell_type": "markdown",
      "source": [
        "In this example:\n",
        "\n",
        "The while loop continues as long as the user hasn't been authenticated and the number of attempts is less than the maximum allowed.\n",
        "\n",
        "The loop's continuation depends on conditions evaluated at runtime, aligning with the typical use case for a while loop.\n",
        "\n",
        "\n",
        "This approach ensures that the program responds dynamically to user input, allowing for flexible control flow based on real-time conditions."
      ],
      "metadata": {
        "id": "8TrYWvNdtznL"
      }
    },
    {
      "cell_type": "markdown",
      "source": [
        "#Practical Questions\n"
      ],
      "metadata": {
        "id": "imD_MDBqgsHx"
      }
    },
    {
      "cell_type": "code",
      "source": [
        "#1.  Write a Python program to print \"Hello, World!\n",
        "print(\"Hello, World!\")"
      ],
      "metadata": {
        "colab": {
          "base_uri": "https://localhost:8080/"
        },
        "id": "WSUARxbrg6ws",
        "outputId": "bf909ae3-dd81-4a3a-b63e-b0b40d5150ac"
      },
      "execution_count": null,
      "outputs": [
        {
          "output_type": "stream",
          "name": "stdout",
          "text": [
            "Hello, World!\n"
          ]
        }
      ]
    },
    {
      "cell_type": "code",
      "source": [
        "#2.  Write a Python program that displays your name and age\n",
        "name = input(\"Enter your name: \")\n",
        "age = input(\"Enter your age: \")\n",
        "print(f\"Your name is {name} and your age is {age}\")"
      ],
      "metadata": {
        "colab": {
          "base_uri": "https://localhost:8080/"
        },
        "id": "0HV86dHng4s1",
        "outputId": "abe5f574-02f9-4fd8-da27-e7626964738a"
      },
      "execution_count": null,
      "outputs": [
        {
          "output_type": "stream",
          "name": "stdout",
          "text": [
            "Enter your name: Ashif\n",
            "Enter your age: 22\n",
            "Your name is Ashif and your age is 22\n"
          ]
        }
      ]
    },
    {
      "cell_type": "code",
      "source": [
        "#3. Write code to print all the pre-defined keywords in Python using the keyword library\n",
        "import keyword\n",
        "print(keyword.kwlist)"
      ],
      "metadata": {
        "colab": {
          "base_uri": "https://localhost:8080/"
        },
        "id": "w_9_zHm5iPbU",
        "outputId": "411ad222-bd74-4433-95e5-bfc9238bb787"
      },
      "execution_count": null,
      "outputs": [
        {
          "output_type": "stream",
          "name": "stdout",
          "text": [
            "['False', 'None', 'True', 'and', 'as', 'assert', 'async', 'await', 'break', 'class', 'continue', 'def', 'del', 'elif', 'else', 'except', 'finally', 'for', 'from', 'global', 'if', 'import', 'in', 'is', 'lambda', 'nonlocal', 'not', 'or', 'pass', 'raise', 'return', 'try', 'while', 'with', 'yield']\n"
          ]
        }
      ]
    },
    {
      "cell_type": "code",
      "source": [
        "#4.  Write a program that checks if a given word is a Python keyword\n",
        "import keyword\n",
        "word = input(\"Enter a word: \")\n",
        "if keyword.iskeyword(word):\n",
        "    print(f\"{word} is a Python keyword.\")\n",
        "else:\n",
        "    print(f\"{word} is not a Python keyword.\")"
      ],
      "metadata": {
        "colab": {
          "base_uri": "https://localhost:8080/"
        },
        "id": "IYRswk-zib-M",
        "outputId": "a3f38c7e-52b0-47fe-9a15-30c3fe4e2fde"
      },
      "execution_count": null,
      "outputs": [
        {
          "output_type": "stream",
          "name": "stdout",
          "text": [
            "Enter a word: is\n",
            "is is a Python keyword.\n"
          ]
        }
      ]
    },
    {
      "cell_type": "code",
      "source": [
        "'''5.  Create a list and tuple in Python, and demonstrate how attempting to change an element works differently\n",
        "for each'''\n",
        "#working with list\n",
        "my_list=[10,20,30,40,50]\n",
        "my_list[2]=35\n",
        "print(my_list)\n"
      ],
      "metadata": {
        "colab": {
          "base_uri": "https://localhost:8080/"
        },
        "id": "8R4sEV5fjDQc",
        "outputId": "8c17c04f-a503-488d-9572-e0a98a97da3a"
      },
      "execution_count": null,
      "outputs": [
        {
          "output_type": "stream",
          "name": "stdout",
          "text": [
            "[10, 20, 35, 40, 50]\n"
          ]
        }
      ]
    },
    {
      "cell_type": "code",
      "source": [
        "#working with Tuple\n",
        "my_tuple=(10,20,30,40,50)\n",
        "my_tuple[2]=35\n",
        "print(my_tuple)"
      ],
      "metadata": {
        "colab": {
          "base_uri": "https://localhost:8080/",
          "height": 193
        },
        "id": "GRWssJtEiL-T",
        "outputId": "64529b86-2254-47ed-f77f-273356a4b0d1"
      },
      "execution_count": null,
      "outputs": [
        {
          "output_type": "error",
          "ename": "TypeError",
          "evalue": "'tuple' object does not support item assignment",
          "traceback": [
            "\u001b[0;31m---------------------------------------------------------------------------\u001b[0m",
            "\u001b[0;31mTypeError\u001b[0m                                 Traceback (most recent call last)",
            "\u001b[0;32m<ipython-input-11-1c6d3694df8f>\u001b[0m in \u001b[0;36m<cell line: 0>\u001b[0;34m()\u001b[0m\n\u001b[1;32m      1\u001b[0m \u001b[0;31m#working with Tuple\u001b[0m\u001b[0;34m\u001b[0m\u001b[0;34m\u001b[0m\u001b[0m\n\u001b[1;32m      2\u001b[0m \u001b[0mmy_tuple\u001b[0m\u001b[0;34m=\u001b[0m\u001b[0;34m(\u001b[0m\u001b[0;36m10\u001b[0m\u001b[0;34m,\u001b[0m\u001b[0;36m20\u001b[0m\u001b[0;34m,\u001b[0m\u001b[0;36m30\u001b[0m\u001b[0;34m,\u001b[0m\u001b[0;36m40\u001b[0m\u001b[0;34m,\u001b[0m\u001b[0;36m50\u001b[0m\u001b[0;34m)\u001b[0m\u001b[0;34m\u001b[0m\u001b[0;34m\u001b[0m\u001b[0m\n\u001b[0;32m----> 3\u001b[0;31m \u001b[0mmy_tuple\u001b[0m\u001b[0;34m[\u001b[0m\u001b[0;36m2\u001b[0m\u001b[0;34m]\u001b[0m\u001b[0;34m=\u001b[0m\u001b[0;36m35\u001b[0m\u001b[0;34m\u001b[0m\u001b[0;34m\u001b[0m\u001b[0m\n\u001b[0m\u001b[1;32m      4\u001b[0m \u001b[0mprint\u001b[0m\u001b[0;34m(\u001b[0m\u001b[0mmy_tuple\u001b[0m\u001b[0;34m)\u001b[0m\u001b[0;34m\u001b[0m\u001b[0;34m\u001b[0m\u001b[0m\n",
            "\u001b[0;31mTypeError\u001b[0m: 'tuple' object does not support item assignment"
          ]
        }
      ]
    },
    {
      "cell_type": "code",
      "source": [
        "#changing the elements in tuple\n",
        "my_tuple=(10,20,30,40,50)\n",
        "temp_list=list(my_tuple)\n",
        "temp_list[2]=35\n",
        "my_tuple=tuple(temp_list)\n",
        "print(my_tuple)"
      ],
      "metadata": {
        "colab": {
          "base_uri": "https://localhost:8080/"
        },
        "id": "W_InrKi7h7UI",
        "outputId": "89e92549-3eaa-4afe-c2d7-40089101e23a"
      },
      "execution_count": null,
      "outputs": [
        {
          "output_type": "stream",
          "name": "stdout",
          "text": [
            "(10, 20, 35, 40, 50)\n"
          ]
        }
      ]
    },
    {
      "cell_type": "code",
      "source": [
        "#6.  Write a function to demonstrate the behavior of mutable and immutable arguments\n",
        "#immutable function\n",
        "def modify_immutable(x):\n",
        "    x += 10\n",
        "    print(f\"Inside function: x = {x}\")\n",
        "\n",
        "a = 5\n",
        "modify_immutable(a)\n",
        "print(f\"Outside function: a = {a}\")"
      ],
      "metadata": {
        "colab": {
          "base_uri": "https://localhost:8080/"
        },
        "id": "bJnhesFJmakm",
        "outputId": "73bd2e4c-1b92-4cd1-c64a-27b044531afb"
      },
      "execution_count": null,
      "outputs": [
        {
          "output_type": "stream",
          "name": "stdout",
          "text": [
            "Inside function: x = 15\n",
            "Outside function: a = 5\n"
          ]
        }
      ]
    },
    {
      "cell_type": "code",
      "source": [
        "#mutable function\n",
        "def modify_mutable(lst):\n",
        "    lst.append(4)\n",
        "    print(f\"Inside function: lst = {lst}\")\n",
        "\n",
        "my_list = [1, 2, 3]\n",
        "modify_mutable(my_list)\n",
        "print(f\"Outside function: my_list = {my_list}\")"
      ],
      "metadata": {
        "colab": {
          "base_uri": "https://localhost:8080/"
        },
        "id": "tRd2SJnRiI2j",
        "outputId": "dd225432-8aad-43b0-b451-7f09d0b3a408"
      },
      "execution_count": null,
      "outputs": [
        {
          "output_type": "stream",
          "name": "stdout",
          "text": [
            "Inside function: lst = [1, 2, 3, 4]\n",
            "Outside function: my_list = [1, 2, 3, 4]\n"
          ]
        }
      ]
    },
    {
      "cell_type": "code",
      "source": [
        "#7.  Write a function to demonstrate the behavior of mutable and immutable arguments\n",
        "#immutable function\n",
        "def modify_immutable(x):\n",
        "    x += 10\n",
        "    print(f\"Inside function: x = {x}\")\n",
        "\n",
        "a = 5\n",
        "modify_immutable(a)\n",
        "print(f\"Outside function: a = {a}\")"
      ],
      "metadata": {
        "colab": {
          "base_uri": "https://localhost:8080/"
        },
        "id": "PQIMKaMKEPWz",
        "outputId": "6110bbb0-6aa9-4708-ca9c-a6ff34e03865"
      },
      "execution_count": null,
      "outputs": [
        {
          "output_type": "stream",
          "name": "stdout",
          "text": [
            "Inside function: x = 15\n",
            "Outside function: a = 5\n"
          ]
        }
      ]
    },
    {
      "cell_type": "code",
      "source": [
        "#mutable function\n",
        "def modify_mutable(lst):\n",
        "    lst.append(4)\n",
        "    print(f\"Inside function: lst = {lst}\")\n",
        "\n",
        "my_list = [1, 2, 3]\n",
        "modify_mutable(my_list)\n",
        "print(f\"Outside function: my_list = {my_list}\")"
      ],
      "metadata": {
        "colab": {
          "base_uri": "https://localhost:8080/"
        },
        "id": "Yx9AdGDLEY8S",
        "outputId": "d211a563-8464-4788-dccd-1a0b186b4ced"
      },
      "execution_count": null,
      "outputs": [
        {
          "output_type": "stream",
          "name": "stdout",
          "text": [
            "Inside function: lst = [1, 2, 3, 4]\n",
            "Outside function: my_list = [1, 2, 3, 4]\n"
          ]
        }
      ]
    },
    {
      "cell_type": "code",
      "source": [
        "#8.  Write a program to demonstrate the use of logical operators\n",
        "#The logical operators are :\n",
        "#and, or, not\n",
        "#demonstate the code\n",
        "# Taking user input\n",
        "age = int(input(\"Enter your age: \"))\n",
        "has_permission = input(\"Do you have parental permission? (yes/no): \").lower() == \"yes\"\n",
        "\n",
        "# Using 'and' operator\n",
        "if age >= 18 and has_permission:\n",
        "    print(\"You can participate in the event.\")\n",
        "else:\n",
        "    print(\"You cannot participate in the event.\")\n",
        "\n",
        "# Using 'or' operator\n",
        "if age >= 18 or has_permission:\n",
        "    print(\"You are allowed access with conditions.\")\n",
        "else:\n",
        "    print(\"Access denied!\")\n",
        "\n",
        "# Using 'not' operator\n",
        "if not has_permission:\n",
        "    print(\"Parental permission is required.\")\n",
        "else:\n",
        "    print(\"Permission granted!\")\n",
        "\n",
        "# Extra example: Combining multiple conditions\n",
        "is_student = input(\"Are you a student? (yes/no): \").lower() == \"yes\"\n",
        "if (age < 18 and is_student) or (age >= 18 and not is_student):\n",
        "    print(\"You get a special discount!\")\n",
        "else:\n",
        "    print(\"No discount available.\")\n"
      ],
      "metadata": {
        "id": "kThGIkajhxM_",
        "colab": {
          "base_uri": "https://localhost:8080/"
        },
        "outputId": "7706eb9e-4295-47ee-83d3-76a585130f12"
      },
      "execution_count": null,
      "outputs": [
        {
          "output_type": "stream",
          "name": "stdout",
          "text": [
            "Enter your age: 22\n",
            "Do you have parental permission? (yes/no): yes\n",
            "You can participate in the event.\n",
            "You are allowed access with conditions.\n",
            "Permission granted!\n",
            "Are you a student? (yes/no): yes\n",
            "No discount available.\n"
          ]
        }
      ]
    },
    {
      "cell_type": "code",
      "source": [
        "#9. Write a Python program to convert user input from string to integer, float, and boolean types\n",
        "# Function to convert string to integer\n",
        "def to_int(input_str):\n",
        "    try:\n",
        "        return int(input_str)\n",
        "    except ValueError:\n",
        "        print(f\"Cannot convert '{input_str}' to an integer.\")\n",
        "        return None\n",
        "\n",
        "# Function to convert string to float\n",
        "def to_float(input_str):\n",
        "    try:\n",
        "        return float(input_str)\n",
        "    except ValueError:\n",
        "        print(f\"Cannot convert '{input_str}' to a float.\")\n",
        "        return None\n",
        "\n",
        "# Function to convert string to boolean\n",
        "def to_bool(input_str):\n",
        "    truthy_values = ['true', '1', 't', 'yes', 'y']\n",
        "    falsy_values = ['false', '0', 'f', 'no', 'n']\n",
        "    input_str_lower = input_str.strip().lower()\n",
        "    if input_str_lower in truthy_values:\n",
        "        return True\n",
        "    elif input_str_lower in falsy_values:\n",
        "        return False\n",
        "    else:\n",
        "        print(f\"Cannot convert '{input_str}' to a boolean.\")\n",
        "        return None\n",
        "\n",
        "# Main program\n",
        "if __name__ == \"__main__\":\n",
        "    user_input = input(\"Enter a value: \")\n",
        "\n",
        "    # Convert to integer\n",
        "    int_value = to_int(user_input)\n",
        "    if int_value is not None:\n",
        "        print(f\"Integer conversion: {int_value}\")\n",
        "\n",
        "    # Convert to float\n",
        "    float_value = to_float(user_input)\n",
        "    if float_value is not None:\n",
        "        print(f\"Float conversion: {float_value}\")\n",
        "\n",
        "    # Convert to boolean\n",
        "    bool_value = to_bool(user_input)\n",
        "    if bool_value is not None:\n",
        "        print(f\"Boolean conversion: {bool_value}\")"
      ],
      "metadata": {
        "colab": {
          "base_uri": "https://localhost:8080/"
        },
        "id": "u0Ym20sgH6LB",
        "outputId": "c23f0187-66df-401d-b2dd-cd55e8f66844"
      },
      "execution_count": null,
      "outputs": [
        {
          "output_type": "stream",
          "name": "stdout",
          "text": [
            "Enter a value: not\n",
            "Cannot convert 'not' to an integer.\n",
            "Cannot convert 'not' to a float.\n",
            "Cannot convert 'not' to a boolean.\n"
          ]
        }
      ]
    },
    {
      "cell_type": "code",
      "source": [
        "#10.  Write code to demonstrate type casting with list elements\n",
        "#Type casting refers to converting one data type to another.\n",
        "#In this list is been converted into different data types\n",
        "# List of strings representing numbers\n",
        "str_numbers = ['1', '2', '3', '4', '5']\n",
        "\n",
        "# Convert each string to an integer using list comprehension\n",
        "int_numbers = [int(num) for num in str_numbers]\n",
        "\n",
        "print(int_numbers)"
      ],
      "metadata": {
        "colab": {
          "base_uri": "https://localhost:8080/"
        },
        "id": "nuSWf_ZBIUZu",
        "outputId": "95eee64e-8e92-410d-a366-5ee3444556df"
      },
      "execution_count": null,
      "outputs": [
        {
          "output_type": "stream",
          "name": "stdout",
          "text": [
            "[1, 2, 3, 4, 5]\n"
          ]
        }
      ]
    },
    {
      "cell_type": "code",
      "source": [
        "# List of strings representing decimal numbers\n",
        "str_decimals = ['3.14', '2.718', '1.618']\n",
        "\n",
        "# Convert each string to a float using map()\n",
        "float_numbers = list(map(float, str_decimals))\n",
        "\n",
        "print(float_numbers)"
      ],
      "metadata": {
        "colab": {
          "base_uri": "https://localhost:8080/"
        },
        "id": "e2q_Oq0vKHRQ",
        "outputId": "c91fc414-a27e-4495-a3d5-a7a726c38be6"
      },
      "execution_count": null,
      "outputs": [
        {
          "output_type": "stream",
          "name": "stdout",
          "text": [
            "[3.14, 2.718, 1.618]\n"
          ]
        }
      ]
    },
    {
      "cell_type": "code",
      "source": [
        "# List containing mixed data types\n",
        "mixed_list = ['42', '3.14', 'not_a_number', 10, True]\n",
        "\n",
        "def convert_to_float(item):\n",
        "    try:\n",
        "        return float(item)\n",
        "    except (ValueError, TypeError):\n",
        "        return item  # Return the item unchanged if conversion fails\n",
        "\n",
        "# Apply conversion to each element in the list\n",
        "converted_list = [convert_to_float(elem) for elem in mixed_list]\n",
        "\n",
        "print(converted_list)"
      ],
      "metadata": {
        "colab": {
          "base_uri": "https://localhost:8080/"
        },
        "id": "wQyabCWpKNfl",
        "outputId": "ed9e2c52-d9b5-4036-b48e-f0c64ec68c78"
      },
      "execution_count": null,
      "outputs": [
        {
          "output_type": "stream",
          "name": "stdout",
          "text": [
            "[42.0, 3.14, 'not_a_number', 10.0, 1.0]\n"
          ]
        }
      ]
    },
    {
      "cell_type": "code",
      "source": [
        "# Nested list of strings representing numbers\n",
        "nested_str_numbers = [['1', '2'], ['3', '4'], ['5', 'six']]\n",
        "\n",
        "# Convert each string to an integer, handling conversion errors\n",
        "nested_int_numbers = []\n",
        "for sublist in nested_str_numbers:\n",
        "    converted_sublist = []\n",
        "    for item in sublist:\n",
        "        try:\n",
        "            converted_sublist.append(int(item))\n",
        "        except ValueError:\n",
        "            converted_sublist.append(item)  # Keep the original item if conversion fails\n",
        "    nested_int_numbers.append(converted_sublist)\n",
        "\n",
        "print(nested_int_numbers)"
      ],
      "metadata": {
        "colab": {
          "base_uri": "https://localhost:8080/"
        },
        "id": "CFGMJhFXKRic",
        "outputId": "c183db04-4907-451a-d152-c3f2945f7b6c"
      },
      "execution_count": null,
      "outputs": [
        {
          "output_type": "stream",
          "name": "stdout",
          "text": [
            "[[1, 2], [3, 4], [5, 'six']]\n"
          ]
        }
      ]
    },
    {
      "cell_type": "code",
      "source": [
        "# List of strings\n",
        "words = ['pwskills', 'is', 'fun']\n",
        "\n",
        "# Join the list into a single string with spaces separating the words\n",
        "sentence = ' '.join(words)\n",
        "\n",
        "print(sentence)"
      ],
      "metadata": {
        "colab": {
          "base_uri": "https://localhost:8080/"
        },
        "id": "fq1RrjWlKVSr",
        "outputId": "0b1deb64-0cdd-44dc-82e7-0cb049af971d"
      },
      "execution_count": null,
      "outputs": [
        {
          "output_type": "stream",
          "name": "stdout",
          "text": [
            "pwskills is fun\n"
          ]
        }
      ]
    },
    {
      "cell_type": "code",
      "source": [
        "#11.  Write a program that checks if a number is positive, negative, or zero\n",
        "num = float(input(\"Enter a number: \"))\n",
        "if num > 0:\n",
        "    print(\"The number is positive.\")\n",
        "elif num < 0:\n",
        "    print(\"The number is negative.\")\n",
        "else:\n",
        "    print(\"The number is zero.\")"
      ],
      "metadata": {
        "colab": {
          "base_uri": "https://localhost:8080/"
        },
        "id": "7CvSQooJK8EB",
        "outputId": "9314f0b4-db63-4a09-ca89-fd9c627e84ac"
      },
      "execution_count": null,
      "outputs": [
        {
          "output_type": "stream",
          "name": "stdout",
          "text": [
            "Enter a number: 3\n",
            "The number is positive.\n"
          ]
        }
      ]
    },
    {
      "cell_type": "code",
      "source": [
        "#12.  Write a for loop to print numbers from 1 to 10\n",
        "for num in range(1, 11):\n",
        "    print(num)"
      ],
      "metadata": {
        "colab": {
          "base_uri": "https://localhost:8080/"
        },
        "id": "JhYEaxZwLN3S",
        "outputId": "55c2a54c-a814-48e1-e590-1fa289f1ab14"
      },
      "execution_count": null,
      "outputs": [
        {
          "output_type": "stream",
          "name": "stdout",
          "text": [
            "1\n",
            "2\n",
            "3\n",
            "4\n",
            "5\n",
            "6\n",
            "7\n",
            "8\n",
            "9\n",
            "10\n"
          ]
        }
      ]
    },
    {
      "cell_type": "code",
      "source": [
        "#13. Write a Python program to find the sum of all even numbers between 1 and 50\n",
        "sum_even = 0\n",
        "for num in range(2, 51, 2):\n",
        "    sum_even += num\n",
        "print(f\"The sum of even numbers from 1 to 50 is: {sum_even}\")"
      ],
      "metadata": {
        "colab": {
          "base_uri": "https://localhost:8080/"
        },
        "id": "hzoVME_RLXCu",
        "outputId": "003d744b-ebed-4149-c377-a9e46aad6f4d"
      },
      "execution_count": null,
      "outputs": [
        {
          "output_type": "stream",
          "name": "stdout",
          "text": [
            "The sum of even numbers from 1 to 50 is: 650\n"
          ]
        }
      ]
    },
    {
      "cell_type": "code",
      "source": [
        "#14.  Write a program to reverse a string using a while loop\n",
        "input_string = input(\"Enter a string: \")\n",
        "reversed_string = \"\""
      ],
      "metadata": {
        "colab": {
          "base_uri": "https://localhost:8080/"
        },
        "id": "ZlQArrQdLgxr",
        "outputId": "c09b7237-cc80-472b-bcb6-aa2e2324b101"
      },
      "execution_count": null,
      "outputs": [
        {
          "name": "stdout",
          "output_type": "stream",
          "text": [
            "Enter a string: pwskills\n"
          ]
        }
      ]
    },
    {
      "cell_type": "code",
      "source": [
        "#15. Write a Python program to calculate the factorial of a number provided by the user using a while loop\n",
        "num = int(input(\"Enter a number: \"))\n",
        "factorial = 1\n",
        "current = 1\n",
        "while current <= num:\n",
        "    factorial *= current\n",
        "    current += 1\n",
        "print(f\"The factorial of {num} is: {factorial}\")"
      ],
      "metadata": {
        "colab": {
          "base_uri": "https://localhost:8080/"
        },
        "id": "kJOCd2y6MC32",
        "outputId": "8892929f-1fae-434a-9d90-282ba3a0a538"
      },
      "execution_count": null,
      "outputs": [
        {
          "output_type": "stream",
          "name": "stdout",
          "text": [
            "Enter a number: 7\n",
            "The factorial of 7 is: 5040\n"
          ]
        }
      ]
    },
    {
      "cell_type": "markdown",
      "source": [],
      "metadata": {
        "id": "pLgK3GY8o-hb"
      }
    },
    {
      "cell_type": "code",
      "source": [],
      "metadata": {
        "id": "pqph9uGqLlcW"
      },
      "execution_count": null,
      "outputs": []
    },
    {
      "cell_type": "markdown",
      "source": [],
      "metadata": {
        "id": "aA-9XykGnV4f"
      }
    }
  ]
}